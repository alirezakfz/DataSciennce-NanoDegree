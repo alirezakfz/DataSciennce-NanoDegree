{
 "cells": [
  {
   "cell_type": "markdown",
   "metadata": {},
   "source": [
    "### 通过 MovieTweetings 创建推荐系统：了解数据\n",
    "\n",
    "在这节课，你将使用 [MovieTweetings 数据](https://github.com/sidooms/MovieTweetings/tree/master/recsyschallenge2014)。首先，你可以通过[这篇论文](http://crowdrec2013.noahlab.com.hk/papers/crowdrec2013_Dooms.pdf)详细了解此项目和数据集。\n",
    "\n",
    "**注意：**点击 notebook 左上角的橙色 Jupyter 徽标，可以转到每个 notebook 的解答部分。此外，你可以在每个 workbook 之后的页面中观看我的截屏录像，看看我演示的过程。 \n",
    "\n",
    "首先，使用以下代码读取将在这节课中一直使用的库和两个数据集。"
   ]
  },
  {
   "cell_type": "code",
   "execution_count": null,
   "metadata": {},
   "outputs": [],
   "source": [
    "import numpy as np\n",
    "import pandas as pd\n",
    "import matplotlib.pyplot as plt\n",
    "import tests as t\n",
    "\n",
    "%matplotlib inline\n",
    "\n",
    "# Read in the datasets\n",
    "movies = pd.read_csv('https://raw.githubusercontent.com/sidooms/MovieTweetings/master/latest/movies.dat', delimiter='::', header=None, names=['movie_id', 'movie', 'genre'], dtype={'movie_id': object}, engine='python')\n",
    "reviews = pd.read_csv('https://raw.githubusercontent.com/sidooms/MovieTweetings/master/latest/ratings.dat', delimiter='::', header=None, names=['user_id', 'movie_id', 'rating', 'timestamp'], dtype={'movie_id': object, 'user_id': object, 'timestamp': object}, engine='python')"
   ]
  },
  {
   "cell_type": "markdown",
   "metadata": {},
   "source": [
    "#### 1.查看数据 \n",
    "\n",
    "查看数据并填写以下字典，这些问题旨在检查你对数据的理解情况。"
   ]
  },
  {
   "cell_type": "code",
   "execution_count": null,
   "metadata": {},
   "outputs": [],
   "source": [
    "# cell for work"
   ]
  },
  {
   "cell_type": "code",
   "execution_count": null,
   "metadata": {},
   "outputs": [],
   "source": [
    "# cell for work"
   ]
  },
  {
   "cell_type": "code",
   "execution_count": null,
   "metadata": {},
   "outputs": [],
   "source": [
    "# more work"
   ]
  },
  {
   "cell_type": "code",
   "execution_count": null,
   "metadata": {},
   "outputs": [],
   "source": [
    "# and still more"
   ]
  },
  {
   "cell_type": "code",
   "execution_count": null,
   "metadata": {},
   "outputs": [],
   "source": [
    "# and even more - open additional cells as necessary"
   ]
  },
  {
   "cell_type": "code",
   "execution_count": null,
   "metadata": {},
   "outputs": [],
   "source": [
    "# Use your findings to match each variable to the correct statement in the dictionary\n",
    "\n",
    "\n",
    "dict_sol1 = {\n",
    "'The number of movies in the dataset': \n",
    "'The number of ratings in the dataset':\n",
    "'The number of different genres':\n",
    "'The number of unique users in the dataset':\n",
    "'The number missing ratings in the reviews dataset':\n",
    "'The average rating given across all ratings':\n",
    "'The minimum rating given across all ratings':\n",
    "'The maximum rating given across all ratings':\n",
    "}\n",
    "\n",
    "# Originally, I had this to check your solution, but the \n",
    "# links are live and updating.  That didn't end up being\n",
    "# a great idea\n"
   ]
  },
  {
   "cell_type": "markdown",
   "metadata": {},
   "source": [
    "#### 2.数据清理\n",
    "\n",
    "接下来，我们需要从现有列中提取一些其他相关信息。 \n",
    "\n",
    "对于每个数据集，我们需要执行几个清理步骤：\n",
    "\n",
    "#### Movies\n",
    "* 从标题中提取日期并创建新的列\n",
    "* 对于电影所属的每个世纪（1800 年代、1900 年代和 2000 年代），用 1 和 0 创建虚拟日期列\n",
    "* 使用 1 和 0 创建虚拟 genre 列\n",
    "\n",
    "#### Reviews\n",
    "* 根据时间戳创建日期\n",
    "\n",
    "你可以使用 **show_clean_dataframes** 函数运行以下单元格，对照我的答案标题检查你的结果。"
   ]
  },
  {
   "cell_type": "code",
   "execution_count": null,
   "metadata": {},
   "outputs": [],
   "source": [
    "# cell for work"
   ]
  },
  {
   "cell_type": "code",
   "execution_count": null,
   "metadata": {},
   "outputs": [],
   "source": [
    "# and another"
   ]
  },
  {
   "cell_type": "code",
   "execution_count": null,
   "metadata": {},
   "outputs": [],
   "source": [
    "# and a few more below, which you can use as necessary"
   ]
  },
  {
   "cell_type": "code",
   "execution_count": null,
   "metadata": {},
   "outputs": [],
   "source": [
    "reviews_new, movies_new = t.show_clean_dataframes()"
   ]
  }
 ],
 "metadata": {
  "kernelspec": {
   "display_name": "Python 3",
   "language": "python",
   "name": "python3"
  },
  "language_info": {
   "codemirror_mode": {
    "name": "ipython",
    "version": 3
   },
   "file_extension": ".py",
   "mimetype": "text/x-python",
   "name": "python",
   "nbconvert_exporter": "python",
   "pygments_lexer": "ipython3",
   "version": "3.6.3"
  }
 },
 "nbformat": 4,
 "nbformat_minor": 2
}
