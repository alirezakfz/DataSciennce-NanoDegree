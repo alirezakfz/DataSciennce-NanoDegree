{
 "cells": [
  {
   "cell_type": "markdown",
   "metadata": {},
   "source": [
    "### 通过 MovieTweetings 创建推荐系统：最热门的推荐内容\n",
    "\n",
    "你已经创建了将在这节课剩余部分创建推荐系统时使用的必要列，下面我们开始创建推荐系统的第一个步骤吧。\n",
    "\n",
    "首先，使用以下代码读取将在这节课中一直使用的库和两个数据集。"
   ]
  },
  {
   "cell_type": "code",
   "execution_count": null,
   "metadata": {},
   "outputs": [],
   "source": [
    "import numpy as np\n",
    "import pandas as pd\n",
    "import matplotlib.pyplot as plt\n",
    "import tests as t\n",
    "\n",
    "%matplotlib inline\n",
    "\n",
    "# Read in the datasets\n",
    "movies = pd.read_csv('movies_clean.csv')\n",
    "reviews = pd.read_csv('reviews_clean.csv')\n",
    "del movies['Unnamed: 0']\n",
    "del reviews['Unnamed: 0']"
   ]
  },
  {
   "cell_type": "markdown",
   "metadata": {},
   "source": [
    "#### 1.如何查找最热门的电影\n",
    "\n",
    "对于此 notebook，我们只有一个任务。我们的任务是无论用户是谁，我们都需要根据最热门的项目提供一个推荐列表。\n",
    "\n",
    "对于此任务，我们将根据以下标准判断什么“最热门”：\n",
    "\n",
    "* 平均评分最高的电影被视为最佳电影\n",
    "* 如果评分一样，则评分数量更多的电影更好\n",
    "* 电影如果评分不足 5 条，则不能被视为最佳电影\n",
    "* 如果电影的平均评分和评分数量都一样，那么根据最近的评分判断排名\n",
    "\n",
    "根据这些标准，此 notebook 的目标是获取 **user_id** 并返回 **n_top** 推荐。以下函数将作为所有未来推荐系统的框架。"
   ]
  },
  {
   "cell_type": "code",
   "execution_count": null,
   "metadata": {},
   "outputs": [],
   "source": [
    "def popular_recommendations(user_id, n_top):\n",
    "    '''\n",
    "    INPUT:\n",
    "    user_id - the user_id of the individual you are making recommendations for\n",
    "    n_top - an integer of the number recommendations you want back\n",
    "    OUTPUT:\n",
    "    top_movies - a list of the n_top recommended movies by movie title in order best to worst\n",
    "    '''\n",
    "    # Do stuff\n",
    "    \n",
    "    return top_movies # a list of the n_top movies as recommended"
   ]
  },
  {
   "cell_type": "markdown",
   "metadata": {},
   "source": [
    "有了上述三个标准后，你将能够编写上述函数。如果你对自己的答案很有信心了，可以对照我们的解答检查你的函数代码。下个页面会提供代码演示，当然，你也可以查看此 workspace 中的解答 notebook。"
   ]
  },
  {
   "cell_type": "code",
   "execution_count": null,
   "metadata": {},
   "outputs": [],
   "source": [
    "# Put your solutions for each of the cases here\n",
    "\n",
    "# Top 20 movies recommended for id 1\n",
    "\n",
    "recs_20_for_1 = # Your solution list here\n",
    "\n",
    "# Top 5 movies recommended for id 53968\n",
    "recs_5_for_53968 = # Your solution list here\n",
    "\n",
    "# Top 100 movies recommended for id 70000\n",
    "recs_100_for_70000 = # Your solution list here\n",
    "\n",
    "# Top 35 movies recommended for id 43\n",
    "recs_35_for_43 = # Your solution list here\n",
    "\n"
   ]
  },
  {
   "cell_type": "code",
   "execution_count": null,
   "metadata": {},
   "outputs": [],
   "source": [
    "### You Should Not Need To Modify Anything In This Cell\n",
    "ranked_movies = t.create_ranked_df(movies, reviews) # only run this once - it is not fast\n",
    "\n",
    "# check 1 \n",
    "assert t.popular_recommendations('1', 20, ranked_movies) == recs_20_for_1,  \"The first check failed...\"\n",
    "# check 2\n",
    "assert t.popular_recommendations('53968', 5, ranked_movies) == recs_5_for_53968,  \"The second check failed...\"\n",
    "# check 3\n",
    "assert t.popular_recommendations('70000', 100, ranked_movies) == recs_100_for_70000,  \"The third check failed...\"\n",
    "# check 4\n",
    "assert t.popular_recommendations('43', 35, ranked_movies) == recs_35_for_43,  \"The fourth check failed...\"\n",
    "\n",
    "print(\"If you got here, looks like you are good to go!  Nice job!\")"
   ]
  },
  {
   "cell_type": "markdown",
   "metadata": {},
   "source": [
    "**注意：**这并不是确定“最高评分”电影的唯一方式。如果是跟踪热门新闻或社会事件，则需要创建一个从当前时间开始的时间期限，然后从最近的期限内提取报道。至于什么方式最好，我们需要自己判断。\n",
    "\n",
    "如果你发现没有人关注你的最热门推荐内容了，那么就需要寻找新的推荐方式，这节课的后续部分将介绍这方面的知识。\n",
    "\n",
    "\n",
    "### 第二部分：添加过滤器\n",
    "\n",
    "创建返回 **n_top** 电影的函数后，我们来完善下此函数。添加作为电影**年份 year**和**类型 genre**过滤器的语句。  \n",
    "\n",
    "在以下单元格中调整现有函数，将**年份**和**类型**参数设为**字符串列表**。然后，从提供的年份和类型列表（作为 `or` 条件）中过滤出最终结果。如果没有提供列表，则不应用过滤器。\n",
    "\n",
    "你可以根据需要调整其他输入，从而检索你想要的最终结果。\n",
    "\n",
    "请在我们的测试函数中编写一些测试。下面这行代码会根据指定的年份和类型过滤器为用户 1 返回前 20 部热门电影。你的代码返回的结果一样吗？\n",
    "\n",
    "```\n",
    "t.popular_recs_filtered('1', 20, ranked_movies, years=['2015', '2016', '2017', '2018'], genres=['History'])\n",
    "```"
   ]
  },
  {
   "cell_type": "code",
   "execution_count": null,
   "metadata": {},
   "outputs": [],
   "source": []
  }
 ],
 "metadata": {
  "kernelspec": {
   "display_name": "Python 3",
   "language": "python",
   "name": "python3"
  },
  "language_info": {
   "codemirror_mode": {
    "name": "ipython",
    "version": 3
   },
   "file_extension": ".py",
   "mimetype": "text/x-python",
   "name": "python",
   "nbconvert_exporter": "python",
   "pygments_lexer": "ipython3",
   "version": "3.6.3"
  }
 },
 "nbformat": 4,
 "nbformat_minor": 2
}
